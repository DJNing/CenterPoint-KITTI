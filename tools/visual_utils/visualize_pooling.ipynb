{
 "cells": [
  {
   "cell_type": "code",
   "execution_count": 23,
   "metadata": {},
   "outputs": [],
   "source": [
    "import matplotlib.pyplot as plt\n",
    "import numpy as np\n",
    "from pathlib import Path as P\n",
    "import os\n",
    "from glob import glob\n",
    "feature_path = P('/root/dj/code/CenterPoint-KITTI/output/IA-SSD-GAN-vod-aug/debug/eval/inter_feats/main_branch')\n",
    "feature_layer_list = sorted(list(feature_path.glob('*')))\n",
    "group_fnames = sorted(glob(str(feature_layer_list[0]/'*_group*')))\n",
    "group_fnames = [x.split('/')[-1] for x in group_fnames]\n",
    "center_fnames = sorted(glob(str(feature_layer_list[0]/'*center*')))\n",
    "center_fnames = [x.split('/')[-1] for x in center_fnames]\n"
   ]
  },
  {
   "cell_type": "code",
   "execution_count": 24,
   "metadata": {},
   "outputs": [
    {
     "data": {
      "text/plain": [
       "'00216_group.npy'"
      ]
     },
     "execution_count": 24,
     "metadata": {},
     "output_type": "execute_result"
    }
   ],
   "source": [
    "group_fnames[216]\n",
    "# group_fnames[100]\n",
    "# group_fnames[0]"
   ]
  },
  {
   "cell_type": "code",
   "execution_count": 25,
   "metadata": {},
   "outputs": [],
   "source": [
    "features_list = []\n",
    "center_list = []\n",
    "idx = 216\n",
    "for layer in feature_layer_list:\n",
    "    full_group_name = str(layer / group_fnames[idx])\n",
    "    full_center_name = str(layer / center_fnames[idx])\n",
    "    try:\n",
    "        features_list += [np.load(full_group_name)]\n",
    "        center_list += [np.load(full_center_name)]\n",
    "    except:\n",
    "        pass"
   ]
  },
  {
   "cell_type": "code",
   "execution_count": 26,
   "metadata": {},
   "outputs": [
    {
     "data": {
      "text/plain": [
       "4"
      ]
     },
     "execution_count": 26,
     "metadata": {},
     "output_type": "execute_result"
    }
   ],
   "source": [
    "len(features_list)"
   ]
  },
  {
   "cell_type": "code",
   "execution_count": 27,
   "metadata": {},
   "outputs": [
    {
     "data": {
      "text/plain": [
       "(1, 1027, 128, 32)"
      ]
     },
     "execution_count": 27,
     "metadata": {},
     "output_type": "execute_result"
    }
   ],
   "source": [
    "features_list[3].shape # [B, C, N, nsample]"
   ]
  },
  {
   "cell_type": "code",
   "execution_count": 28,
   "metadata": {},
   "outputs": [],
   "source": [
    "coord = features_list[0][0, :3, :, :]\n",
    "feat = features_list[0][0, 3:, :, :]"
   ]
  },
  {
   "cell_type": "code",
   "execution_count": 29,
   "metadata": {},
   "outputs": [
    {
     "data": {
      "text/plain": [
       "(3, 512, 32)"
      ]
     },
     "execution_count": 29,
     "metadata": {},
     "output_type": "execute_result"
    }
   ],
   "source": [
    "coord.shape"
   ]
  },
  {
   "cell_type": "code",
   "execution_count": 30,
   "metadata": {},
   "outputs": [],
   "source": [
    "cur_center = center_list[3]"
   ]
  },
  {
   "cell_type": "code",
   "execution_count": 31,
   "metadata": {},
   "outputs": [
    {
     "data": {
      "text/plain": [
       "(64, 512, 32)"
      ]
     },
     "execution_count": 31,
     "metadata": {},
     "output_type": "execute_result"
    }
   ],
   "source": [
    "feat.shape"
   ]
  },
  {
   "cell_type": "code",
   "execution_count": 32,
   "metadata": {},
   "outputs": [],
   "source": [
    "group_features = feat[:, 0, :]"
   ]
  },
  {
   "cell_type": "code",
   "execution_count": 33,
   "metadata": {},
   "outputs": [
    {
     "data": {
      "text/plain": [
       "(64, 32)"
      ]
     },
     "execution_count": 33,
     "metadata": {},
     "output_type": "execute_result"
    }
   ],
   "source": [
    "group_features.shape"
   ]
  },
  {
   "cell_type": "code",
   "execution_count": 34,
   "metadata": {},
   "outputs": [],
   "source": [
    "t = np.argmax(group_features, axis=1)"
   ]
  },
  {
   "cell_type": "code",
   "execution_count": 35,
   "metadata": {},
   "outputs": [],
   "source": [
    "feat_idx = np.argmax(feat, axis=-1)"
   ]
  },
  {
   "cell_type": "code",
   "execution_count": 36,
   "metadata": {},
   "outputs": [
    {
     "data": {
      "text/plain": [
       "array([0, 0, 0, 0, 0, 0, 0, 0, 0, 0, 0, 0, 0, 0, 0, 0, 0, 0, 0, 0, 0, 0,\n",
       "       0, 0, 0, 0, 0, 0, 0, 0, 0, 0, 0, 0, 0, 0, 0, 0, 0, 0, 0, 0, 0, 0,\n",
       "       0, 0, 0, 0, 0, 0, 0, 0, 0, 0, 0, 0, 0, 0, 0, 0, 0, 0, 0, 0])"
      ]
     },
     "execution_count": 36,
     "metadata": {},
     "output_type": "execute_result"
    }
   ],
   "source": [
    "t"
   ]
  },
  {
   "cell_type": "code",
   "execution_count": 37,
   "metadata": {},
   "outputs": [
    {
     "data": {
      "text/plain": [
       "(64, 512)"
      ]
     },
     "execution_count": 37,
     "metadata": {},
     "output_type": "execute_result"
    }
   ],
   "source": [
    "feat_idx.shape"
   ]
  },
  {
   "cell_type": "code",
   "execution_count": 38,
   "metadata": {},
   "outputs": [
    {
     "data": {
      "text/plain": [
       "(1, 128, 3)"
      ]
     },
     "execution_count": 38,
     "metadata": {},
     "output_type": "execute_result"
    }
   ],
   "source": [
    "cur_center.shape"
   ]
  },
  {
   "cell_type": "code",
   "execution_count": 39,
   "metadata": {},
   "outputs": [
    {
     "data": {
      "text/plain": [
       "array([ True, False, False, False,  True,  True, False, False,  True,\n",
       "        True,  True, False, False, False,  True,  True,  True, False,\n",
       "       False, False, False, False, False, False, False, False, False,\n",
       "       False, False,  True,  True, False, False, False, False, False,\n",
       "       False,  True, False, False, False, False, False, False, False,\n",
       "       False,  True,  True, False, False, False, False, False, False,\n",
       "        True, False, False, False, False, False, False, False, False,\n",
       "       False, False, False, False, False, False, False, False, False,\n",
       "       False, False,  True,  True,  True, False, False, False,  True,\n",
       "        True, False, False, False, False, False, False, False, False,\n",
       "       False, False, False, False, False, False, False, False, False,\n",
       "       False, False,  True,  True, False, False, False, False, False,\n",
       "       False, False, False,  True,  True, False, False, False, False,\n",
       "       False, False, False, False, False, False, False, False, False,\n",
       "       False,  True])"
      ]
     },
     "execution_count": 39,
     "metadata": {},
     "output_type": "execute_result"
    }
   ],
   "source": [
    "(cur_center[0, :, 0] < 20) & (cur_center[0, :, 0] > 17)"
   ]
  },
  {
   "cell_type": "code",
   "execution_count": 40,
   "metadata": {},
   "outputs": [],
   "source": [
    "import pickle\n",
    "root_path = P('/root/dj/code/CenterPoint-KITTI/output/IA-SSD-GAN-vod-aug/debug/eval/checkpoint_epoch_11')\n",
    "    # ia-ssd\n",
    "    # root_path = P('/root/dj/code/CenterPoint-KITTI/output/IA-SSD-vod-radar/iassd_128_all/eval/checkpoint_epoch_100')\n",
    "    \n",
    "    # root_path = P('/root/dj/code/CenterPoint-KITTI/output/pointpillar_vod_lidar/filter5/eval/eval_with_train/epoch_80/val')\n",
    "\n",
    "color_dict = {}\n",
    "\n",
    "gt_save_dir = root_path / 'GT_all_bev'\n",
    "pred_save_dir = root_path / 'pred_bev'\n",
    "gt_save_dir.mkdir(exist_ok=True)\n",
    "pred_save_dir.mkdir(exist_ok=True)\n",
    "\n",
    "# for i, v in enumerate(cls_name):\n",
    "#     color_dict[v] = label_color_palette_2d[v]\n",
    "# load gt\n",
    "with open(str(root_path / 'gt.pkl'), 'rb') as f:\n",
    "    gt = pickle.load(f)\n",
    "\n",
    "# load det\n",
    "with open(str(root_path / 'dt.pkl'), 'rb') as f:\n",
    "    dt = pickle.load(f)\n",
    "\n",
    "# load centers\n",
    "with open(str(root_path / 'centers.pkl'), 'rb') as f:\n",
    "    centers = pickle.load(f)\n",
    "\n",
    "# load centers_origin\n",
    "with open(str(root_path / 'centers_origin.pkl'), 'rb') as f:\n",
    "    centers_origin = pickle.load(f)\n",
    "\n",
    "# load input points (after sampling to 512 points)\n",
    "with open(str(root_path / 'points.pkl'), 'rb') as f:\n",
    "    points = pickle.load(f)"
   ]
  },
  {
   "cell_type": "code",
   "execution_count": null,
   "metadata": {},
   "outputs": [],
   "source": []
  },
  {
   "cell_type": "code",
   "execution_count": null,
   "metadata": {},
   "outputs": [],
   "source": []
  },
  {
   "cell_type": "code",
   "execution_count": null,
   "metadata": {},
   "outputs": [],
   "source": []
  },
  {
   "cell_type": "code",
   "execution_count": 41,
   "metadata": {},
   "outputs": [
    {
     "data": {
      "text/plain": [
       "(1, 128, 3)"
      ]
     },
     "execution_count": 41,
     "metadata": {},
     "output_type": "execute_result"
    }
   ],
   "source": [
    "cur_center.shape"
   ]
  },
  {
   "cell_type": "code",
   "execution_count": 42,
   "metadata": {},
   "outputs": [],
   "source": [
    "import open3d as o3d\n",
    "# pcd = o3d.geometry.PointCloud()\n",
    "# pcd.points = o3d.utility.Vector3dVector(cur_center)"
   ]
  },
  {
   "cell_type": "code",
   "execution_count": 43,
   "metadata": {},
   "outputs": [],
   "source": [
    "from scipy.spatial.transform import Rotation as R\n",
    "\n",
    "from visualize_point_based import transform_anno, drawBEV\n",
    "\n",
    "def get_rotation(yaw):\n",
    "    # x,y,_ = arr[:3]\n",
    "    # yaw = np.arctan(y/x)\n",
    "    angle = np.array([0, 0, yaw])\n",
    "    r = R.from_euler('XYZ', angle)\n",
    "    return r.as_matrix()\n",
    "\n",
    "def get_bbx_param(obj_info):\n",
    "\n",
    "    center = obj_info[:3]\n",
    "    extent = obj_info[3:6] + np.array([0, 0, 10])\n",
    "    angle = -obj_info[6]\n",
    "    # center[-1] += 0.5 * extent[-1]\n",
    "\n",
    "    rot_m = get_rotation(angle)\n",
    "    \n",
    "    obbx = o3d.geometry.OrientedBoundingBox(center.T, rot_m, extent.T)\n",
    "    return obbx\n",
    "    \n",
    "fix_frame_id = '04197'\n"
   ]
  },
  {
   "cell_type": "code",
   "execution_count": null,
   "metadata": {},
   "outputs": [],
   "source": []
  },
  {
   "cell_type": "code",
   "execution_count": null,
   "metadata": {},
   "outputs": [],
   "source": []
  },
  {
   "cell_type": "code",
   "execution_count": 44,
   "metadata": {},
   "outputs": [],
   "source": [
    "# cur_center[ 83, :]"
   ]
  },
  {
   "cell_type": "code",
   "execution_count": null,
   "metadata": {},
   "outputs": [],
   "source": []
  },
  {
   "cell_type": "code",
   "execution_count": 45,
   "metadata": {},
   "outputs": [
    {
     "data": {
      "text/plain": [
       "array([[30.504318  , -0.21465677,  0.34385434],\n",
       "       [30.505007  , -0.12553607, -1.3351623 ]], dtype=float32)"
      ]
     },
     "execution_count": 45,
     "metadata": {},
     "output_type": "execute_result"
    }
   ],
   "source": [
    "test = cur_center.squeeze(0)\n",
    "test[\n",
    "    (test[:, 0] > 30)&\n",
    "    (test[:, 0] < 35)\n",
    "]"
   ]
  },
  {
   "cell_type": "code",
   "execution_count": 46,
   "metadata": {},
   "outputs": [
    {
     "data": {
      "text/plain": [
       "array([0, 0, 0, 0, 0, 0, 0, 0, 0, 0, 0, 0, 0, 0, 0, 0, 0, 0, 0, 0, 0, 0,\n",
       "       0, 0, 0, 0, 0, 0, 0, 0, 0, 0, 0, 0, 0, 0, 0, 0, 0, 0, 0, 0, 0, 0,\n",
       "       0, 0, 0, 0, 0, 0, 0, 0, 0, 0, 0, 0, 0, 0, 0, 0, 0, 0, 0, 0])"
      ]
     },
     "execution_count": 46,
     "metadata": {},
     "output_type": "execute_result"
    }
   ],
   "source": [
    "t"
   ]
  },
  {
   "cell_type": "code",
   "execution_count": 47,
   "metadata": {},
   "outputs": [
    {
     "data": {
      "image/png": "[encoded data removed]",
      "text/plain": [
       "<Figure size 432x288 with 1 Axes>"
      ]
     },
     "metadata": {
      "needs_background": "light"
     },
     "output_type": "display_data"
    }
   ],
   "source": [
    "plt.scatter(test[:,0], test[:,1])\n",
    "plt.show()"
   ]
  },
  {
   "cell_type": "code",
   "execution_count": 48,
   "metadata": {},
   "outputs": [
    {
     "data": {
      "text/plain": [
       "(512, 6)"
      ]
     },
     "execution_count": 48,
     "metadata": {},
     "output_type": "execute_result"
    }
   ],
   "source": [
    "points['00216'].shape"
   ]
  },
  {
   "cell_type": "code",
   "execution_count": 49,
   "metadata": {},
   "outputs": [
    {
     "data": {
      "image/png": "[encoded data removed]",
      "text/plain": [
       "<Figure size 432x288 with 1 Axes>"
      ]
     },
     "metadata": {
      "needs_background": "light"
     },
     "output_type": "display_data"
    }
   ],
   "source": [
    "test_id = '00216'\n",
    "plt.scatter(points['00216'][:,1], points['00216'][:,2])\n",
    "plt.show()"
   ]
  },
  {
   "cell_type": "code",
   "execution_count": 50,
   "metadata": {},
   "outputs": [
    {
     "data": {
      "text/plain": [
       "(-30.0, 30.0)"
      ]
     },
     "execution_count": 50,
     "metadata": {},
     "output_type": "execute_result"
    },
    {
     "data": {
      "image/png": "[encoded data removed]",
      "text/plain": [
       "<Figure size 432x288 with 1 Axes>"
      ]
     },
     "metadata": {
      "needs_background": "light"
     },
     "output_type": "display_data"
    }
   ],
   "source": [
    "from vod.visualization.settings import label_color_palette_2d\n",
    "cls_name = ['Car','Pedestrian', 'Cyclist', 'Others']\n",
    "color_dict = {}\n",
    "for i, v in enumerate(cls_name):\n",
    "    color_dict[v] = label_color_palette_2d[v]\n",
    "ax = plt.gca()\n",
    "drawBEV(ax, points[test_id], centers_origin[test_id], gt[test_id], color_dict, test_id, 'pred')\n",
    "plt.xlim(-0,75)\n",
    "plt.ylim(-30,30)\n",
    "\n"
   ]
  },
  {
   "cell_type": "code",
   "execution_count": 51,
   "metadata": {},
   "outputs": [
    {
     "data": {
      "text/plain": [
       "(1, 128, 3)"
      ]
     },
     "execution_count": 51,
     "metadata": {},
     "output_type": "execute_result"
    }
   ],
   "source": [
    "cur_center.shape"
   ]
  },
  {
   "cell_type": "code",
   "execution_count": 52,
   "metadata": {},
   "outputs": [
    {
     "data": {
      "text/plain": [
       "(1, 259, 256, 32)"
      ]
     },
     "execution_count": 52,
     "metadata": {},
     "output_type": "execute_result"
    }
   ],
   "source": [
    "features_list[2].shape"
   ]
  },
  {
   "cell_type": "code",
   "execution_count": null,
   "metadata": {},
   "outputs": [],
   "source": [
    "\n"
   ]
  },
  {
   "cell_type": "code",
   "execution_count": null,
   "metadata": {},
   "outputs": [],
   "source": []
  },
  {
   "cell_type": "code",
   "execution_count": null,
   "metadata": {},
   "outputs": [],
   "source": []
  },
  {
   "cell_type": "code",
   "execution_count": 53,
   "metadata": {},
   "outputs": [],
   "source": [
    "save_path = root_path / 'vis_pooling'\n",
    "save_path.mkdir(exist_ok=True)"
   ]
  },
  {
   "cell_type": "code",
   "execution_count": 54,
   "metadata": {},
   "outputs": [
    {
     "data": {
      "image/png": "[encoded data removed]",
      "text/plain": [
       "<Figure size 432x288 with 2 Axes>"
      ]
     },
     "metadata": {
      "needs_background": "light"
     },
     "output_type": "display_data"
    }
   ],
   "source": [
    "import matplotlib.cm as cm\n",
    "\n",
    "anno_type = 'gt'\n",
    "if anno_type == 'pred':\n",
    "    anno = dt[str(idx).zfill(5)][0]\n",
    "else:\n",
    "    anno = gt[str(idx).zfill(5)]\n",
    "\n",
    "cur_class_name = 'Car'\n",
    "draw_cls_name = ['Car','Pedestrian', 'Cyclist']\n",
    "for cur_class_name in cls_name:\n",
    "\n",
    "    select = anno['name'] == cur_class_name\n",
    "    loc = anno['location'][select]\n",
    "    yaw = anno['rotation_y'][select]\n",
    "    extent = anno['dimensions'][select]\n",
    "\n",
    "\n",
    "    # cur_label_idx = 0\n",
    "\n",
    "\n",
    "    for cur_label_idx in range(sum(select)):\n",
    "\n",
    "        x, y, z = transform_anno(loc[cur_label_idx], fix_frame_id)\n",
    "        dx, dy, dz = extent[cur_label_idx]\n",
    "        rot_y = yaw[cur_label_idx]\n",
    "        obj_info = np.array([x, y, z, dx, dy, dz, rot_y])\n",
    "        box = get_bbx_param(obj_info)\n",
    "\n",
    "\n",
    "        layer_range = [0, 1, 2]\n",
    "        for layer_idx in layer_range:\n",
    "            plt.cla()\n",
    "            plt.clf()\n",
    "            cur_center = center_list[layer_idx].squeeze(0)\n",
    "            cur_grouped = features_list[layer_idx]\n",
    "            cur_feat = cur_grouped[:, 3:,:,:]\n",
    "            cur_coords = cur_grouped[:, :3, :, :]\n",
    "            radius_list = [0.8, 1.6, 4.8, 6.4]\n",
    "            pcd = o3d.geometry.PointCloud()\n",
    "            pcd.points = o3d.utility.Vector3dVector(cur_center)\n",
    "            ctr_idx = box.get_point_indices_within_bounding_box(pcd.points)\n",
    "            # print(ctr_idx)\n",
    "            if len(ctr_idx ) == 0:\n",
    "                continue\n",
    "            ped_center = cur_center[ctr_idx[0],:]\n",
    "            selected_coords = cur_coords[0, :, ctr_idx[0], :]\n",
    "            selected_feats = cur_feat[0, :, ctr_idx[0], :]\n",
    "            selected_feats[selected_feats < 0] = 0\n",
    "            bins = selected_feats.shape[1]\n",
    "            max_idx = np.argmax(selected_feats, axis=1)\n",
    "            hist = np.histogram(max_idx, bins=bins, range=(0, bins))[0]\n",
    "            c = hist/ sum(hist)\n",
    "            minval = np.min(c[np.nonzero(c)])\n",
    "            if minval == 1:\n",
    "                minval = 0\n",
    "            norm_c = (c - minval)/(max(c) - minval)\n",
    "            norm_c[norm_c < 0] = 0\n",
    "            selected_x = selected_coords[0, :].T\n",
    "            selected_y = selected_coords[1, :].T\n",
    "\n",
    "            sort_ind = np.argsort(norm_c, axis=0)\n",
    "            sorted_x = np.take_along_axis(selected_x, sort_ind, axis=0)\n",
    "            sorted_y = np.take_along_axis(selected_y, sort_ind, axis=0)\n",
    "            sorted_c = np.take_along_axis(norm_c, sort_ind, axis=0)\n",
    "\n",
    "            colormap = plt.cm.get_cmap('plasma') # 'plasma' or 'viridis'\n",
    "\n",
    "            hot_c = cm.plasma(sorted_c)\n",
    "            plt.rcParams['figure.dpi'] = 200\n",
    "            ax = plt.gca()\n",
    "            title = anno_type + '_' + cur_class_name + '_' + str(cur_label_idx) + '_' + 'Layer_' + str(layer_idx)\n",
    "            if anno_type == 'gt':\n",
    "                draw_anno = gt[test_id]\n",
    "            elif anno_type == 'pred':\n",
    "                draw_anno = dt[test_id]\n",
    "            drawBEV(ax, points[test_id], None, draw_anno, color_dict, test_id, title)\n",
    "            ax.scatter(sorted_x, sorted_y, c=hot_c, s=5)\n",
    "            circle = plt.Circle(ped_center[0:2], radius_list[layer_idx], fill=False, color='cyan')\n",
    "            ax.add_patch(circle)\n",
    "            handle_legend = ax.get_legend_handles_labels()\n",
    "            plt.xlim(-0,75)\n",
    "            plt.ylim(-30,30)\n",
    "            sm = plt.cm.ScalarMappable(cmap=colormap)\n",
    "            sm.set_clim(vmin=0, vmax=1)\n",
    "            plt.colorbar(sm)\n",
    "            fig_name = title + '.png'\n",
    "            save_fname = str(save_path / fig_name)\n",
    "            plt.savefig(save_fname)\n"
   ]
  },
  {
   "cell_type": "code",
   "execution_count": 55,
   "metadata": {},
   "outputs": [
    {
     "data": {
      "text/plain": [
       "array([0.10546875, 0.0546875 , 0.02734375, 0.09765625, 0.0546875 ,\n",
       "       0.0546875 , 0.03515625, 0.03515625, 0.02734375, 0.0234375 ,\n",
       "       0.        , 0.015625  , 0.0390625 , 0.0390625 , 0.        ,\n",
       "       0.03515625, 0.015625  , 0.0078125 , 0.        , 0.0546875 ,\n",
       "       0.015625  , 0.06640625, 0.03515625, 0.03125   , 0.0234375 ,\n",
       "       0.        , 0.        , 0.00390625, 0.07421875, 0.00390625,\n",
       "       0.        , 0.0234375 ])"
      ]
     },
     "execution_count": 55,
     "metadata": {},
     "output_type": "execute_result"
    }
   ],
   "source": [
    "c"
   ]
  },
  {
   "cell_type": "code",
   "execution_count": 56,
   "metadata": {},
   "outputs": [
    {
     "ename": "TypeError",
     "evalue": "'Legend' object is not iterable",
     "output_type": "error",
     "traceback": [
      "\u001b[0;31m---------------------------------------------------------------------------\u001b[0m",
      "\u001b[0;31mTypeError\u001b[0m                                 Traceback (most recent call last)",
      "\u001b[1;32m/root/dj/code/CenterPoint-KITTI/tools/visual_utils/visualize_pooling.ipynb Cell 43'\u001b[0m in \u001b[0;36m<cell line: 2>\u001b[0;34m()\u001b[0m\n\u001b[1;32m      <a href='vscode-notebook-cell://ssh-remote%2Bcenterpoint-kitti/root/dj/code/CenterPoint-KITTI/tools/visual_utils/visualize_pooling.ipynb#ch0000042vscode-remote?line=0'>1</a>\u001b[0m t \u001b[39m=\u001b[39m ax\u001b[39m.\u001b[39mget_legend()\n\u001b[0;32m----> <a href='vscode-notebook-cell://ssh-remote%2Bcenterpoint-kitti/root/dj/code/CenterPoint-KITTI/tools/visual_utils/visualize_pooling.ipynb#ch0000042vscode-remote?line=1'>2</a>\u001b[0m \u001b[39mfor\u001b[39;00m i, l \u001b[39min\u001b[39;00m \u001b[39menumerate\u001b[39;49m(t):\n\u001b[1;32m      <a href='vscode-notebook-cell://ssh-remote%2Bcenterpoint-kitti/root/dj/code/CenterPoint-KITTI/tools/visual_utils/visualize_pooling.ipynb#ch0000042vscode-remote?line=2'>3</a>\u001b[0m     \u001b[39mprint\u001b[39m(i)\n\u001b[1;32m      <a href='vscode-notebook-cell://ssh-remote%2Bcenterpoint-kitti/root/dj/code/CenterPoint-KITTI/tools/visual_utils/visualize_pooling.ipynb#ch0000042vscode-remote?line=3'>4</a>\u001b[0m     \u001b[39mprint\u001b[39m(l)\n",
      "\u001b[0;31mTypeError\u001b[0m: 'Legend' object is not iterable"
     ]
    }
   ],
   "source": [
    "t = ax.get_legend()\n",
    "for i, l in enumerate(t):\n",
    "    print(i)\n",
    "    print(l)"
   ]
  },
  {
   "cell_type": "code",
   "execution_count": null,
   "metadata": {},
   "outputs": [],
   "source": [
    "selected_feats.argmax(axis=1)"
   ]
  },
  {
   "cell_type": "code",
   "execution_count": null,
   "metadata": {},
   "outputs": [],
   "source": [
    "sorted_c"
   ]
  },
  {
   "cell_type": "code",
   "execution_count": null,
   "metadata": {},
   "outputs": [],
   "source": [
    "handle_legend = ax.get_legend_handles_labels()"
   ]
  },
  {
   "cell_type": "code",
   "execution_count": null,
   "metadata": {},
   "outputs": [],
   "source": [
    "handle_legend"
   ]
  },
  {
   "cell_type": "code",
   "execution_count": null,
   "metadata": {},
   "outputs": [],
   "source": [
    "a = np.array([0, 0, 0, 1, 1])\n",
    "np.histogram(a)"
   ]
  },
  {
   "cell_type": "code",
   "execution_count": null,
   "metadata": {},
   "outputs": [],
   "source": []
  }
 ],
 "metadata": {
  "interpreter": {
   "hash": "d4d1e4263499bec80672ea0156c357c1ee493ec2b1c70f0acce89fc37c4a6abe"
  },
  "kernelspec": {
   "display_name": "Python 3.8.5 ('base')",
   "language": "python",
   "name": "python3"
  },
  "language_info": {
   "codemirror_mode": {
    "name": "ipython",
    "version": 3
   },
   "file_extension": ".py",
   "mimetype": "text/x-python",
   "name": "python",
   "nbconvert_exporter": "python",
   "pygments_lexer": "ipython3",
   "version": "3.8.5"
  },
  "orig_nbformat": 4,
  "vscode": {
   "interpreter": {
    "hash": "d4d1e4263499bec80672ea0156c357c1ee493ec2b1c70f0acce89fc37c4a6abe"
   }
  }
 },
 "nbformat": 4,
 "nbformat_minor": 2
}
